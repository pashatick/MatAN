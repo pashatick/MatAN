{
 "cells": [
  {
   "cell_type": "code",
   "execution_count": 1,
   "metadata": {},
   "outputs": [
    {
     "data": {
      "text/plain": [
       "'\\nTask 1-4\\n1) (AvB)=>(Bv-A) \\n2)\\n3) Сегодня не светит солнце или сыро, поэтому я не поеду на дачу\\n4) Я Поеду на дачу, т.к. на улице солнце или сухо. \\n'"
      ]
     },
     "execution_count": 1,
     "metadata": {},
     "output_type": "execute_result"
    }
   ],
   "source": [
    "'''\n",
    "Task 1-4\n",
    "1) (AvB)=>(Bv-A) не является\n",
    "2) A => (Av(-B/\\A)) является тавтологией\n",
    "3) Сегодня не светит солнце или сыро, поэтому я не поеду на дачу\n",
    "4) Я Поеду на дачу, т.к. на улице солнце или сухо. \n",
    "'''"
   ]
  },
  {
   "cell_type": "code",
   "execution_count": 2,
   "metadata": {},
   "outputs": [
    {
     "data": {
      "text/plain": [
       "'\\nTask 5-7\\n\\n'"
      ]
     },
     "execution_count": 2,
     "metadata": {},
     "output_type": "execute_result"
    }
   ],
   "source": [
    "'''\n",
    "Task 5-7\n",
    "\n",
    "5) А курсе А факультета Е студенты : знают A экзамены == 5   ОТРИЦАНИЕ Е факультет на ктором Е курс на котором А студенты Е оценку !=5 \n",
    "\n",
    "6) А студент Э фф Е друга : умеет решать А логические задачи  ОТРИЦАНИЕ  Е студент Э фф А друзяь у которых Е способность решать 1 лз  \n",
    "\n",
    "7) А самолет Э рейсу Вашингтон-Москва E cотрудник Э КГБ : cотрудник >= 1, А пуговица Э одежды Е микрофон  ОТРИЦАНИЕ  Е рейс Э Ваштнгтон-Москва : А пассажиры Э сотрудники КГБ, Е поговицу с микрофоном     \n",
    "\n",
    "'''"
   ]
  },
  {
   "cell_type": "code",
   "execution_count": 3,
   "metadata": {},
   "outputs": [
    {
     "data": {
      "text/plain": [
       "'\\nTask 8-14\\n\\n8)  x=0.(216)\\n    1000x = 216+x\\n    999x=216\\n    x = 24/111\\n\\n9)  x = 1.0(01) \\n\\n\\n\\n10) 1/2+1/3+1/6=1\\n\\n11)1/2+1/3+1/12+1/24+1/48+1/72+1/144=1\\n\\n12)\\n'"
      ]
     },
     "execution_count": 3,
     "metadata": {},
     "output_type": "execute_result"
    }
   ],
   "source": [
    "'''\n",
    "Task 8-14\n",
    "\n",
    "8)  x=0.(216)\n",
    "    1000x = 216+x\n",
    "    999x=216\n",
    "    x = 24/111\n",
    "\n",
    "9)  x = 1.0(01) \n",
    "\n",
    "\n",
    "\n",
    "10) 1/2+1/3+1/6=1\n",
    "\n",
    "11)1/2+1/3+1/12+1/24+1/48+1/72+1/144=1\n",
    "\n",
    "12) Ответ: 1\n",
    "\n",
    "13 \n",
    "'''"
   ]
  },
  {
   "cell_type": "code",
   "execution_count": 21,
   "metadata": {},
   "outputs": [
    {
     "data": {
      "text/plain": [
       "0.999989999899999"
      ]
     },
     "execution_count": 21,
     "metadata": {},
     "output_type": "execute_result"
    }
   ],
   "source": [
    "#к 12 задачке\n",
    "import numpy\n",
    "n = 100000\n",
    "arr = []\n",
    "for dg in range(n):\n",
    "    if dg < 2:\n",
    "        continue\n",
    "    else:\n",
    "        arr.append(1/((dg-1)*dg))\n",
    "arr = numpy.array(arr)\n",
    "arr.sum()"
   ]
  },
  {
   "cell_type": "code",
   "execution_count": 23,
   "metadata": {},
   "outputs": [
    {
     "data": {
      "text/plain": [
       "-oo"
      ]
     },
     "execution_count": 23,
     "metadata": {},
     "output_type": "execute_result"
    }
   ],
   "source": [
    "from sympy import *\n",
    "\n",
    "x = Symbol('x')\n",
    "\n",
    "limit((1/((x-1)*x))+(1/((x-1)*x)),x,00)"
   ]
  },
  {
   "cell_type": "code",
   "execution_count": 9,
   "metadata": {},
   "outputs": [
    {
     "data": {
      "text/plain": [
       "0.9999999999999999"
      ]
     },
     "execution_count": 9,
     "metadata": {},
     "output_type": "execute_result"
    }
   ],
   "source": [
    "(1/2)+(1/3)+(1/6)"
   ]
  },
  {
   "cell_type": "code",
   "execution_count": 10,
   "metadata": {},
   "outputs": [
    {
     "data": {
      "text/plain": [
       "0.9999999999999999"
      ]
     },
     "execution_count": 10,
     "metadata": {},
     "output_type": "execute_result"
    }
   ],
   "source": [
    "(1/2)+(1/3)+(1/12)+(1/24)+(1/48)+(1/72)+(1/144)"
   ]
  },
  {
   "cell_type": "code",
   "execution_count": null,
   "metadata": {},
   "outputs": [],
   "source": []
  }
 ],
 "metadata": {
  "kernelspec": {
   "display_name": "Python 3",
   "language": "python",
   "name": "python3"
  },
  "language_info": {
   "codemirror_mode": {
    "name": "ipython",
    "version": 3
   },
   "file_extension": ".py",
   "mimetype": "text/x-python",
   "name": "python",
   "nbconvert_exporter": "python",
   "pygments_lexer": "ipython3",
   "version": "3.7.3"
  }
 },
 "nbformat": 4,
 "nbformat_minor": 2
}
